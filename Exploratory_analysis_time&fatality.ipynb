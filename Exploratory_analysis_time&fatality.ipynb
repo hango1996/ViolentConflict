{
 "cells": [
  {
   "cell_type": "code",
   "execution_count": 1,
   "id": "dc993377",
   "metadata": {},
   "outputs": [],
   "source": [
    "import pandas as pd\n",
    "import matplotlib.pyplot as plt\n",
    "import seaborn as sns\n",
    "import numpy as np\n",
    "pd.set_option('display.max_rows', 50)"
   ]
  },
  {
   "cell_type": "code",
   "execution_count": 2,
   "id": "ad88c84b",
   "metadata": {},
   "outputs": [],
   "source": [
    "acled_2020 = pd.read_csv('data.csv')"
   ]
  },
  {
   "cell_type": "code",
   "execution_count": 3,
   "id": "f1f10a87",
   "metadata": {},
   "outputs": [
    {
     "data": {
      "text/html": [
       "<div>\n",
       "<style scoped>\n",
       "    .dataframe tbody tr th:only-of-type {\n",
       "        vertical-align: middle;\n",
       "    }\n",
       "\n",
       "    .dataframe tbody tr th {\n",
       "        vertical-align: top;\n",
       "    }\n",
       "\n",
       "    .dataframe thead th {\n",
       "        text-align: right;\n",
       "    }\n",
       "</style>\n",
       "<table border=\"1\" class=\"dataframe\">\n",
       "  <thead>\n",
       "    <tr style=\"text-align: right;\">\n",
       "      <th></th>\n",
       "      <th>data_id</th>\n",
       "      <th>iso</th>\n",
       "      <th>event_id_cnty</th>\n",
       "      <th>event_id_no_cnty</th>\n",
       "      <th>event_date</th>\n",
       "      <th>year</th>\n",
       "      <th>time_precision</th>\n",
       "      <th>event_type</th>\n",
       "      <th>sub_event_type</th>\n",
       "      <th>actor1</th>\n",
       "      <th>...</th>\n",
       "      <th>location</th>\n",
       "      <th>latitude</th>\n",
       "      <th>longitude</th>\n",
       "      <th>geo_precision</th>\n",
       "      <th>source</th>\n",
       "      <th>source_scale</th>\n",
       "      <th>notes</th>\n",
       "      <th>fatalities</th>\n",
       "      <th>timestamp</th>\n",
       "      <th>iso3</th>\n",
       "    </tr>\n",
       "  </thead>\n",
       "  <tbody>\n",
       "    <tr>\n",
       "      <th>0</th>\n",
       "      <td>9835075</td>\n",
       "      <td>180</td>\n",
       "      <td>DRC28679</td>\n",
       "      <td>28679</td>\n",
       "      <td>10 February 2023</td>\n",
       "      <td>2023</td>\n",
       "      <td>1</td>\n",
       "      <td>Strategic developments</td>\n",
       "      <td>Non-violent transfer of territory</td>\n",
       "      <td>M23: March 23 Movement</td>\n",
       "      <td>...</td>\n",
       "      <td>Bukombo</td>\n",
       "      <td>-1.2020</td>\n",
       "      <td>29.1183</td>\n",
       "      <td>1</td>\n",
       "      <td>Radio Okapi</td>\n",
       "      <td>National</td>\n",
       "      <td>On 10 February 2023, M23 gained control of Buk...</td>\n",
       "      <td>0</td>\n",
       "      <td>1676309784</td>\n",
       "      <td>COD</td>\n",
       "    </tr>\n",
       "    <tr>\n",
       "      <th>1</th>\n",
       "      <td>9835076</td>\n",
       "      <td>180</td>\n",
       "      <td>DRC28680</td>\n",
       "      <td>28680</td>\n",
       "      <td>10 February 2023</td>\n",
       "      <td>2023</td>\n",
       "      <td>1</td>\n",
       "      <td>Protests</td>\n",
       "      <td>Excessive force against protesters</td>\n",
       "      <td>Protesters (Democratic Republic of Congo)</td>\n",
       "      <td>...</td>\n",
       "      <td>Butembo</td>\n",
       "      <td>0.1420</td>\n",
       "      <td>29.2910</td>\n",
       "      <td>1</td>\n",
       "      <td>7 Sur 7; Politico (DRC); Twitter</td>\n",
       "      <td>New media-National</td>\n",
       "      <td>On 10 February 2023, the police shot gunshots ...</td>\n",
       "      <td>0</td>\n",
       "      <td>1676309784</td>\n",
       "      <td>COD</td>\n",
       "    </tr>\n",
       "    <tr>\n",
       "      <th>2</th>\n",
       "      <td>9835077</td>\n",
       "      <td>180</td>\n",
       "      <td>DRC28681</td>\n",
       "      <td>28681</td>\n",
       "      <td>10 February 2023</td>\n",
       "      <td>2023</td>\n",
       "      <td>2</td>\n",
       "      <td>Strategic developments</td>\n",
       "      <td>Headquarters or base established</td>\n",
       "      <td>ADF: Allied Democratic Forces</td>\n",
       "      <td>...</td>\n",
       "      <td>Mamove</td>\n",
       "      <td>0.8241</td>\n",
       "      <td>29.4412</td>\n",
       "      <td>2</td>\n",
       "      <td>Politico (DRC)</td>\n",
       "      <td>National</td>\n",
       "      <td>Around 10 February 2023 (as reported), ADF est...</td>\n",
       "      <td>0</td>\n",
       "      <td>1676309784</td>\n",
       "      <td>COD</td>\n",
       "    </tr>\n",
       "    <tr>\n",
       "      <th>3</th>\n",
       "      <td>9835079</td>\n",
       "      <td>180</td>\n",
       "      <td>DRC28683</td>\n",
       "      <td>28683</td>\n",
       "      <td>10 February 2023</td>\n",
       "      <td>2023</td>\n",
       "      <td>1</td>\n",
       "      <td>Battles</td>\n",
       "      <td>Armed clash</td>\n",
       "      <td>Military Forces of the Democratic Republic of ...</td>\n",
       "      <td>...</td>\n",
       "      <td>Kanyatsi</td>\n",
       "      <td>0.4367</td>\n",
       "      <td>29.3247</td>\n",
       "      <td>1</td>\n",
       "      <td>Mediacongo.net</td>\n",
       "      <td>National</td>\n",
       "      <td>On 10 February 2023, FARDC clashed with ADF in...</td>\n",
       "      <td>0</td>\n",
       "      <td>1676309784</td>\n",
       "      <td>COD</td>\n",
       "    </tr>\n",
       "    <tr>\n",
       "      <th>4</th>\n",
       "      <td>9835080</td>\n",
       "      <td>180</td>\n",
       "      <td>DRC28684</td>\n",
       "      <td>28684</td>\n",
       "      <td>10 February 2023</td>\n",
       "      <td>2023</td>\n",
       "      <td>1</td>\n",
       "      <td>Battles</td>\n",
       "      <td>Armed clash</td>\n",
       "      <td>Military Forces of the Democratic Republic of ...</td>\n",
       "      <td>...</td>\n",
       "      <td>Karenga</td>\n",
       "      <td>-1.4724</td>\n",
       "      <td>29.0655</td>\n",
       "      <td>1</td>\n",
       "      <td>SOS Medias</td>\n",
       "      <td>New media</td>\n",
       "      <td>On 10 February 2023, FARDC clashed with M23 in...</td>\n",
       "      <td>0</td>\n",
       "      <td>1676309784</td>\n",
       "      <td>COD</td>\n",
       "    </tr>\n",
       "  </tbody>\n",
       "</table>\n",
       "<p>5 rows × 31 columns</p>\n",
       "</div>"
      ],
      "text/plain": [
       "   data_id  iso event_id_cnty  event_id_no_cnty        event_date  year  \\\n",
       "0  9835075  180      DRC28679             28679  10 February 2023  2023   \n",
       "1  9835076  180      DRC28680             28680  10 February 2023  2023   \n",
       "2  9835077  180      DRC28681             28681  10 February 2023  2023   \n",
       "3  9835079  180      DRC28683             28683  10 February 2023  2023   \n",
       "4  9835080  180      DRC28684             28684  10 February 2023  2023   \n",
       "\n",
       "   time_precision              event_type                      sub_event_type  \\\n",
       "0               1  Strategic developments   Non-violent transfer of territory   \n",
       "1               1                Protests  Excessive force against protesters   \n",
       "2               2  Strategic developments    Headquarters or base established   \n",
       "3               1                 Battles                         Armed clash   \n",
       "4               1                 Battles                         Armed clash   \n",
       "\n",
       "                                              actor1  ...  location  latitude  \\\n",
       "0                             M23: March 23 Movement  ...   Bukombo   -1.2020   \n",
       "1          Protesters (Democratic Republic of Congo)  ...   Butembo    0.1420   \n",
       "2                      ADF: Allied Democratic Forces  ...    Mamove    0.8241   \n",
       "3  Military Forces of the Democratic Republic of ...  ...  Kanyatsi    0.4367   \n",
       "4  Military Forces of the Democratic Republic of ...  ...   Karenga   -1.4724   \n",
       "\n",
       "  longitude geo_precision                            source  \\\n",
       "0   29.1183             1                       Radio Okapi   \n",
       "1   29.2910             1  7 Sur 7; Politico (DRC); Twitter   \n",
       "2   29.4412             2                    Politico (DRC)   \n",
       "3   29.3247             1                    Mediacongo.net   \n",
       "4   29.0655             1                        SOS Medias   \n",
       "\n",
       "         source_scale                                              notes  \\\n",
       "0            National  On 10 February 2023, M23 gained control of Buk...   \n",
       "1  New media-National  On 10 February 2023, the police shot gunshots ...   \n",
       "2            National  Around 10 February 2023 (as reported), ADF est...   \n",
       "3            National  On 10 February 2023, FARDC clashed with ADF in...   \n",
       "4           New media  On 10 February 2023, FARDC clashed with M23 in...   \n",
       "\n",
       "  fatalities   timestamp iso3  \n",
       "0          0  1676309784  COD  \n",
       "1          0  1676309784  COD  \n",
       "2          0  1676309784  COD  \n",
       "3          0  1676309784  COD  \n",
       "4          0  1676309784  COD  \n",
       "\n",
       "[5 rows x 31 columns]"
      ]
     },
     "execution_count": 3,
     "metadata": {},
     "output_type": "execute_result"
    }
   ],
   "source": [
    "acled_2020.head()"
   ]
  },
  {
   "cell_type": "code",
   "execution_count": 4,
   "id": "c541da46",
   "metadata": {},
   "outputs": [
    {
     "data": {
      "text/plain": [
       "array(['Middle Africa', 'Eastern Africa', 'Southern Africa',\n",
       "       'Northern Africa', 'Western Africa'], dtype=object)"
      ]
     },
     "execution_count": 4,
     "metadata": {},
     "output_type": "execute_result"
    }
   ],
   "source": [
    "acled_2020.region.unique()"
   ]
  },
  {
   "cell_type": "code",
   "execution_count": 5,
   "id": "50550436",
   "metadata": {},
   "outputs": [
    {
     "name": "stdout",
     "output_type": "stream",
     "text": [
      "<class 'pandas.core.frame.DataFrame'>\n",
      "RangeIndex: 310565 entries, 0 to 310564\n",
      "Data columns (total 31 columns):\n",
      " #   Column            Non-Null Count   Dtype  \n",
      "---  ------            --------------   -----  \n",
      " 0   data_id           310565 non-null  int64  \n",
      " 1   iso               310565 non-null  int64  \n",
      " 2   event_id_cnty     310565 non-null  object \n",
      " 3   event_id_no_cnty  310565 non-null  int64  \n",
      " 4   event_date        310565 non-null  object \n",
      " 5   year              310565 non-null  int64  \n",
      " 6   time_precision    310565 non-null  int64  \n",
      " 7   event_type        310565 non-null  object \n",
      " 8   sub_event_type    310565 non-null  object \n",
      " 9   actor1            310565 non-null  object \n",
      " 10  assoc_actor_1     81840 non-null   object \n",
      " 11  inter1            310565 non-null  int64  \n",
      " 12  actor2            226154 non-null  object \n",
      " 13  assoc_actor_2     60838 non-null   object \n",
      " 14  inter2            310565 non-null  int64  \n",
      " 15  interaction       310565 non-null  int64  \n",
      " 16  region            310565 non-null  object \n",
      " 17  country           310565 non-null  object \n",
      " 18  admin1            310563 non-null  object \n",
      " 19  admin2            308157 non-null  object \n",
      " 20  admin3            151064 non-null  object \n",
      " 21  location          310565 non-null  object \n",
      " 22  latitude          310565 non-null  float64\n",
      " 23  longitude         310565 non-null  float64\n",
      " 24  geo_precision     310565 non-null  int64  \n",
      " 25  source            310565 non-null  object \n",
      " 26  source_scale      310565 non-null  object \n",
      " 27  notes             310565 non-null  object \n",
      " 28  fatalities        310565 non-null  int64  \n",
      " 29  timestamp         310565 non-null  int64  \n",
      " 30  iso3              310565 non-null  object \n",
      "dtypes: float64(2), int64(11), object(18)\n",
      "memory usage: 73.5+ MB\n"
     ]
    }
   ],
   "source": [
    "acled_2020.info()"
   ]
  },
  {
   "cell_type": "code",
   "execution_count": 5,
   "id": "c8725367",
   "metadata": {},
   "outputs": [],
   "source": [
    "features = ['data_id', 'iso', 'event_id_cnty', 'event_id_no_cnty', 'event_date', 'year', 'time_precision', 'fatalities', 'timestamp','iso3']\n",
    "acled_sub = acled_2020[features]"
   ]
  },
  {
   "cell_type": "code",
   "execution_count": 6,
   "id": "e17d751a",
   "metadata": {},
   "outputs": [
    {
     "data": {
      "text/plain": [
       "data_id             0\n",
       "iso                 0\n",
       "event_id_cnty       0\n",
       "event_id_no_cnty    0\n",
       "event_date          0\n",
       "year                0\n",
       "time_precision      0\n",
       "fatalities          0\n",
       "timestamp           0\n",
       "iso3                0\n",
       "dtype: int64"
      ]
     },
     "execution_count": 6,
     "metadata": {},
     "output_type": "execute_result"
    }
   ],
   "source": [
    "## Missing values\n",
    "acled_sub.isna().sum()"
   ]
  },
  {
   "cell_type": "code",
   "execution_count": 7,
   "id": "658be1df",
   "metadata": {},
   "outputs": [
    {
     "name": "stdout",
     "output_type": "stream",
     "text": [
      "<class 'pandas.core.frame.DataFrame'>\n",
      "RangeIndex: 310565 entries, 0 to 310564\n",
      "Data columns (total 10 columns):\n",
      " #   Column            Non-Null Count   Dtype \n",
      "---  ------            --------------   ----- \n",
      " 0   data_id           310565 non-null  int64 \n",
      " 1   iso               310565 non-null  int64 \n",
      " 2   event_id_cnty     310565 non-null  object\n",
      " 3   event_id_no_cnty  310565 non-null  int64 \n",
      " 4   event_date        310565 non-null  object\n",
      " 5   year              310565 non-null  int64 \n",
      " 6   time_precision    310565 non-null  int64 \n",
      " 7   fatalities        310565 non-null  int64 \n",
      " 8   timestamp         310565 non-null  int64 \n",
      " 9   iso3              310565 non-null  object\n",
      "dtypes: int64(7), object(3)\n",
      "memory usage: 23.7+ MB\n"
     ]
    }
   ],
   "source": [
    "acled_sub.info()"
   ]
  },
  {
   "cell_type": "code",
   "execution_count": 8,
   "id": "9645ac64",
   "metadata": {},
   "outputs": [
    {
     "name": "stdout",
     "output_type": "stream",
     "text": [
      "# of observations: 310565\n",
      "# of unique data_id: 310565\n",
      "# of unique iso: 57\n",
      "706    39219\n",
      "566    29531\n",
      "180    28074\n",
      "729    18934\n",
      "710    18197\n",
      "       ...  \n",
      "174       77\n",
      "226       75\n",
      "678       25\n",
      "690       11\n",
      "654        2\n",
      "Name: iso, Length: 57, dtype: int64\n",
      "# of unique event_id_cnty 310565\n",
      "# of unique event_id_no_cnty 41563\n",
      "unique values of time_precision: [1 2 3]\n"
     ]
    }
   ],
   "source": [
    "print('# of observations:', len(acled_sub))\n",
    "print('# of unique data_id:', len(acled_sub.data_id.unique())) ## data_id is unique for each observation\n",
    "print('# of unique iso:', len(acled_sub.iso.unique()))\n",
    "print(acled_sub.iso.value_counts())\n",
    "print('# of unique event_id_cnty', len(acled_sub.event_id_cnty.unique())) ## event_id_cnty is unique for each obsevation\n",
    "print('# of unique event_id_no_cnty', len(acled_sub.event_id_no_cnty.unique()))\n",
    "print('unique values of time_precision:', acled_sub.time_precision.unique())\n",
    "# If sources include an actual date of an event, a time precision code of “1”\n",
    "# is entered. If sources note that an event happened during a specific week or in the weekend\n",
    "#, “2” is noted in the time precision field and the middle of that week (or of the weekend) is used\n",
    "#as the reference date. If sources note only that an event took place within a particular\n",
    "#month, without reference to the particular date, the month mid-point is chosen unless the beginning or end\n",
    "#of the month is noted (in which case, the first and last date are used, respectively) and “3” is noted as the time precision level\n"
   ]
  },
  {
   "cell_type": "code",
   "execution_count": 11,
   "id": "907bf6a6",
   "metadata": {
    "scrolled": true
   },
   "outputs": [
    {
     "data": {
      "text/plain": [
       "1    277314\n",
       "2     25252\n",
       "3      7999\n",
       "Name: time_precision, dtype: int64"
      ]
     },
     "execution_count": 11,
     "metadata": {},
     "output_type": "execute_result"
    }
   ],
   "source": [
    "acled_sub.time_precision.value_counts()"
   ]
  },
  {
   "cell_type": "markdown",
   "id": "8be58723",
   "metadata": {},
   "source": [
    "## Time of Event"
   ]
  },
  {
   "cell_type": "code",
   "execution_count": 9,
   "id": "6eccd5ae",
   "metadata": {
    "scrolled": true
   },
   "outputs": [
    {
     "name": "stderr",
     "output_type": "stream",
     "text": [
      "C:\\Users\\zhuye\\AppData\\Local\\Temp\\ipykernel_26500\\3032994154.py:4: SettingWithCopyWarning: \n",
      "A value is trying to be set on a copy of a slice from a DataFrame.\n",
      "Try using .loc[row_indexer,col_indexer] = value instead\n",
      "\n",
      "See the caveats in the documentation: https://pandas.pydata.org/pandas-docs/stable/user_guide/indexing.html#returning-a-view-versus-a-copy\n",
      "  acled_sub['month-year'] = pd.to_datetime(acled_sub.event_date.map(f1), format = '%B-%Y')\n",
      "C:\\Users\\zhuye\\AppData\\Local\\Temp\\ipykernel_26500\\3032994154.py:5: SettingWithCopyWarning: \n",
      "A value is trying to be set on a copy of a slice from a DataFrame.\n",
      "Try using .loc[row_indexer,col_indexer] = value instead\n",
      "\n",
      "See the caveats in the documentation: https://pandas.pydata.org/pandas-docs/stable/user_guide/indexing.html#returning-a-view-versus-a-copy\n",
      "  acled_sub['event_date'] = pd.to_datetime(acled_sub.event_date)\n"
     ]
    }
   ],
   "source": [
    "def f1(x):\n",
    "    day, month, year = x.split(' ')\n",
    "    return f'{month}-{year}'\n",
    "acled_sub['month-year'] = pd.to_datetime(acled_sub.event_date.map(f1), format = '%B-%Y')\n",
    "acled_sub['event_date'] = pd.to_datetime(acled_sub.event_date)"
   ]
  },
  {
   "cell_type": "code",
   "execution_count": 10,
   "id": "8661f538",
   "metadata": {},
   "outputs": [
    {
     "name": "stderr",
     "output_type": "stream",
     "text": [
      "C:\\Users\\zhuye\\AppData\\Local\\Temp\\ipykernel_26500\\75714920.py:1: SettingWithCopyWarning: \n",
      "A value is trying to be set on a copy of a slice from a DataFrame.\n",
      "Try using .loc[row_indexer,col_indexer] = value instead\n",
      "\n",
      "See the caveats in the documentation: https://pandas.pydata.org/pandas-docs/stable/user_guide/indexing.html#returning-a-view-versus-a-copy\n",
      "  acled_sub['#event'] =acled_sub.groupby('month-year')['month-year'].transform('count')\n"
     ]
    }
   ],
   "source": [
    "acled_sub['#event'] =acled_sub.groupby('month-year')['month-year'].transform('count')"
   ]
  },
  {
   "cell_type": "code",
   "execution_count": 11,
   "id": "0d594474",
   "metadata": {},
   "outputs": [
    {
     "data": {
      "text/html": [
       "<div>\n",
       "<style scoped>\n",
       "    .dataframe tbody tr th:only-of-type {\n",
       "        vertical-align: middle;\n",
       "    }\n",
       "\n",
       "    .dataframe tbody tr th {\n",
       "        vertical-align: top;\n",
       "    }\n",
       "\n",
       "    .dataframe thead th {\n",
       "        text-align: right;\n",
       "    }\n",
       "</style>\n",
       "<table border=\"1\" class=\"dataframe\">\n",
       "  <thead>\n",
       "    <tr style=\"text-align: right;\">\n",
       "      <th></th>\n",
       "      <th>data_id</th>\n",
       "      <th>iso</th>\n",
       "      <th>event_id_cnty</th>\n",
       "      <th>event_id_no_cnty</th>\n",
       "      <th>event_date</th>\n",
       "      <th>year</th>\n",
       "      <th>time_precision</th>\n",
       "      <th>fatalities</th>\n",
       "      <th>timestamp</th>\n",
       "      <th>iso3</th>\n",
       "      <th>month-year</th>\n",
       "      <th>#event</th>\n",
       "    </tr>\n",
       "  </thead>\n",
       "  <tbody>\n",
       "    <tr>\n",
       "      <th>0</th>\n",
       "      <td>9835075</td>\n",
       "      <td>180</td>\n",
       "      <td>DRC28679</td>\n",
       "      <td>28679</td>\n",
       "      <td>2023-02-10</td>\n",
       "      <td>2023</td>\n",
       "      <td>1</td>\n",
       "      <td>0</td>\n",
       "      <td>1676309784</td>\n",
       "      <td>COD</td>\n",
       "      <td>2023-02-01</td>\n",
       "      <td>884</td>\n",
       "    </tr>\n",
       "    <tr>\n",
       "      <th>1</th>\n",
       "      <td>9835076</td>\n",
       "      <td>180</td>\n",
       "      <td>DRC28680</td>\n",
       "      <td>28680</td>\n",
       "      <td>2023-02-10</td>\n",
       "      <td>2023</td>\n",
       "      <td>1</td>\n",
       "      <td>0</td>\n",
       "      <td>1676309784</td>\n",
       "      <td>COD</td>\n",
       "      <td>2023-02-01</td>\n",
       "      <td>884</td>\n",
       "    </tr>\n",
       "    <tr>\n",
       "      <th>2</th>\n",
       "      <td>9835077</td>\n",
       "      <td>180</td>\n",
       "      <td>DRC28681</td>\n",
       "      <td>28681</td>\n",
       "      <td>2023-02-10</td>\n",
       "      <td>2023</td>\n",
       "      <td>2</td>\n",
       "      <td>0</td>\n",
       "      <td>1676309784</td>\n",
       "      <td>COD</td>\n",
       "      <td>2023-02-01</td>\n",
       "      <td>884</td>\n",
       "    </tr>\n",
       "    <tr>\n",
       "      <th>3</th>\n",
       "      <td>9835079</td>\n",
       "      <td>180</td>\n",
       "      <td>DRC28683</td>\n",
       "      <td>28683</td>\n",
       "      <td>2023-02-10</td>\n",
       "      <td>2023</td>\n",
       "      <td>1</td>\n",
       "      <td>0</td>\n",
       "      <td>1676309784</td>\n",
       "      <td>COD</td>\n",
       "      <td>2023-02-01</td>\n",
       "      <td>884</td>\n",
       "    </tr>\n",
       "    <tr>\n",
       "      <th>4</th>\n",
       "      <td>9835080</td>\n",
       "      <td>180</td>\n",
       "      <td>DRC28684</td>\n",
       "      <td>28684</td>\n",
       "      <td>2023-02-10</td>\n",
       "      <td>2023</td>\n",
       "      <td>1</td>\n",
       "      <td>0</td>\n",
       "      <td>1676309784</td>\n",
       "      <td>COD</td>\n",
       "      <td>2023-02-01</td>\n",
       "      <td>884</td>\n",
       "    </tr>\n",
       "    <tr>\n",
       "      <th>...</th>\n",
       "      <td>...</td>\n",
       "      <td>...</td>\n",
       "      <td>...</td>\n",
       "      <td>...</td>\n",
       "      <td>...</td>\n",
       "      <td>...</td>\n",
       "      <td>...</td>\n",
       "      <td>...</td>\n",
       "      <td>...</td>\n",
       "      <td>...</td>\n",
       "      <td>...</td>\n",
       "      <td>...</td>\n",
       "    </tr>\n",
       "    <tr>\n",
       "      <th>310560</th>\n",
       "      <td>9695770</td>\n",
       "      <td>694</td>\n",
       "      <td>SIE2</td>\n",
       "      <td>2</td>\n",
       "      <td>1997-01-01</td>\n",
       "      <td>1997</td>\n",
       "      <td>3</td>\n",
       "      <td>0</td>\n",
       "      <td>1670286851</td>\n",
       "      <td>SLE</td>\n",
       "      <td>1997-01-01</td>\n",
       "      <td>241</td>\n",
       "    </tr>\n",
       "    <tr>\n",
       "      <th>310561</th>\n",
       "      <td>9695771</td>\n",
       "      <td>694</td>\n",
       "      <td>SIE3</td>\n",
       "      <td>3</td>\n",
       "      <td>1997-01-01</td>\n",
       "      <td>1997</td>\n",
       "      <td>3</td>\n",
       "      <td>0</td>\n",
       "      <td>1670286851</td>\n",
       "      <td>SLE</td>\n",
       "      <td>1997-01-01</td>\n",
       "      <td>241</td>\n",
       "    </tr>\n",
       "    <tr>\n",
       "      <th>310562</th>\n",
       "      <td>9695772</td>\n",
       "      <td>694</td>\n",
       "      <td>SIE6</td>\n",
       "      <td>6</td>\n",
       "      <td>1997-01-01</td>\n",
       "      <td>1997</td>\n",
       "      <td>3</td>\n",
       "      <td>0</td>\n",
       "      <td>1670286851</td>\n",
       "      <td>SLE</td>\n",
       "      <td>1997-01-01</td>\n",
       "      <td>241</td>\n",
       "    </tr>\n",
       "    <tr>\n",
       "      <th>310563</th>\n",
       "      <td>9695773</td>\n",
       "      <td>694</td>\n",
       "      <td>SIE7</td>\n",
       "      <td>7</td>\n",
       "      <td>1997-01-01</td>\n",
       "      <td>1997</td>\n",
       "      <td>3</td>\n",
       "      <td>0</td>\n",
       "      <td>1670286851</td>\n",
       "      <td>SLE</td>\n",
       "      <td>1997-01-01</td>\n",
       "      <td>241</td>\n",
       "    </tr>\n",
       "    <tr>\n",
       "      <th>310564</th>\n",
       "      <td>9743454</td>\n",
       "      <td>24</td>\n",
       "      <td>ANG2</td>\n",
       "      <td>2</td>\n",
       "      <td>1997-01-01</td>\n",
       "      <td>1997</td>\n",
       "      <td>3</td>\n",
       "      <td>10</td>\n",
       "      <td>1673316822</td>\n",
       "      <td>AGO</td>\n",
       "      <td>1997-01-01</td>\n",
       "      <td>241</td>\n",
       "    </tr>\n",
       "  </tbody>\n",
       "</table>\n",
       "<p>310565 rows × 12 columns</p>\n",
       "</div>"
      ],
      "text/plain": [
       "        data_id  iso event_id_cnty  event_id_no_cnty event_date  year  \\\n",
       "0       9835075  180      DRC28679             28679 2023-02-10  2023   \n",
       "1       9835076  180      DRC28680             28680 2023-02-10  2023   \n",
       "2       9835077  180      DRC28681             28681 2023-02-10  2023   \n",
       "3       9835079  180      DRC28683             28683 2023-02-10  2023   \n",
       "4       9835080  180      DRC28684             28684 2023-02-10  2023   \n",
       "...         ...  ...           ...               ...        ...   ...   \n",
       "310560  9695770  694          SIE2                 2 1997-01-01  1997   \n",
       "310561  9695771  694          SIE3                 3 1997-01-01  1997   \n",
       "310562  9695772  694          SIE6                 6 1997-01-01  1997   \n",
       "310563  9695773  694          SIE7                 7 1997-01-01  1997   \n",
       "310564  9743454   24          ANG2                 2 1997-01-01  1997   \n",
       "\n",
       "        time_precision  fatalities   timestamp iso3 month-year  #event  \n",
       "0                    1           0  1676309784  COD 2023-02-01     884  \n",
       "1                    1           0  1676309784  COD 2023-02-01     884  \n",
       "2                    2           0  1676309784  COD 2023-02-01     884  \n",
       "3                    1           0  1676309784  COD 2023-02-01     884  \n",
       "4                    1           0  1676309784  COD 2023-02-01     884  \n",
       "...                ...         ...         ...  ...        ...     ...  \n",
       "310560               3           0  1670286851  SLE 1997-01-01     241  \n",
       "310561               3           0  1670286851  SLE 1997-01-01     241  \n",
       "310562               3           0  1670286851  SLE 1997-01-01     241  \n",
       "310563               3           0  1670286851  SLE 1997-01-01     241  \n",
       "310564               3          10  1673316822  AGO 1997-01-01     241  \n",
       "\n",
       "[310565 rows x 12 columns]"
      ]
     },
     "execution_count": 11,
     "metadata": {},
     "output_type": "execute_result"
    }
   ],
   "source": [
    "acled_sub"
   ]
  },
  {
   "cell_type": "code",
   "execution_count": 12,
   "id": "42f66f38",
   "metadata": {},
   "outputs": [
    {
     "data": {
      "text/plain": [
       "<AxesSubplot: xlabel='month-year', ylabel='#event'>"
      ]
     },
     "execution_count": 12,
     "metadata": {},
     "output_type": "execute_result"
    },
    {
     "data": {
      "image/png": "[encoded data removed]",
      "text/plain": [
       "<Figure size 640x480 with 1 Axes>"
      ]
     },
     "metadata": {},
     "output_type": "display_data"
    }
   ],
   "source": [
    "sns.lineplot(data=acled_sub,x = 'month-year', y = '#event')"
   ]
  },
  {
   "cell_type": "code",
   "execution_count": 13,
   "id": "3776956b",
   "metadata": {},
   "outputs": [
    {
     "data": {
      "image/png": "[encoded data removed]",
      "text/plain": [
       "<Figure size 640x480 with 1 Axes>"
      ]
     },
     "metadata": {},
     "output_type": "display_data"
    }
   ],
   "source": [
    "ax = sns.barplot(data=acled_2020.year.value_counts().sort_index().rename('#event').reset_index(),\n",
    "            x = 'index',\n",
    "            y = '#event')\n",
    "ax.set_xticklabels(ax.get_xticklabels(), rotation=90);"
   ]
  },
  {
   "cell_type": "markdown",
   "id": "8f0bdaeb",
   "metadata": {},
   "source": [
    "## Fatality of event"
   ]
  },
  {
   "cell_type": "code",
   "execution_count": 14,
   "id": "d84fa7dc",
   "metadata": {
    "scrolled": true
   },
   "outputs": [
    {
     "name": "stdout",
     "output_type": "stream",
     "text": [
      "[0, 1, 2, 3, 4, 5, 6, 7, 8, 9, 10, 11, 12, 13, 14, 15, 16, 17, 18, 19, 20, 21, 22, 23, 24, 25, 26, 27, 28, 29, 30, 31, 32, 33, 34, 35, 36, 37, 38, 39, 40, 41, 42, 43, 44, 45, 46, 47, 48, 49, 50, 51, 52, 53, 54, 55, 56, 57, 58, 59, 60, 61, 62, 63, 64, 65, 66, 67, 68, 69, 70, 71, 72, 73, 74, 75, 76, 77, 78, 79, 80, 81, 82, 83, 84, 85, 86, 87, 88, 89, 90, 91, 92, 93, 94, 95, 96, 97, 98, 99, 100, 101, 102, 103, 104, 105, 106, 107, 108, 109, 110, 111, 112, 113, 114, 115, 116, 117, 118, 119, 120, 121, 122, 123, 124, 125, 126, 127, 128, 129, 130, 131, 132, 134, 135, 136, 137, 138, 139, 140, 141, 142, 143, 144, 145, 147, 148, 150, 151, 152, 153, 155, 156, 157, 158, 159, 160, 161, 162, 163, 164, 165, 166, 167, 168, 170, 172, 173, 174, 175, 176, 180, 181, 183, 185, 186, 187, 188, 189, 190, 192, 194, 195, 197, 200, 201, 202, 205, 207, 208, 209, 210, 211, 212, 213, 215, 216, 220, 224, 225, 226, 227, 230, 231, 234, 236, 237, 240, 244, 247, 248, 250, 251, 257, 259, 260, 264, 266, 267, 270, 272, 275, 285, 286, 300, 305, 310, 311, 315, 318, 319, 320, 321, 322, 325, 326, 330, 333, 334, 338, 348, 350, 354, 370, 400, 404, 408, 409, 411, 420, 446, 450, 475, 500, 525, 530, 543, 587, 597, 598, 600, 631, 650, 700, 718, 750, 922, 923, 963, 1000, 1037, 1172, 1350]\n"
     ]
    },
    {
     "data": {
      "text/plain": [
       "0       211965\n",
       "1        38924\n",
       "2        15530\n",
       "3        10137\n",
       "4         5576\n",
       "         ...  \n",
       "963          1\n",
       "1000       118\n",
       "1037         1\n",
       "1172         1\n",
       "1350         4\n",
       "Name: fatalities, Length: 273, dtype: int64"
      ]
     },
     "execution_count": 14,
     "metadata": {},
     "output_type": "execute_result"
    }
   ],
   "source": [
    "print(sorted(acled_sub.fatalities.unique()))\n",
    "acled_sub.fatalities.value_counts().sort_index(ascending=True)"
   ]
  },
  {
   "cell_type": "code",
   "execution_count": 15,
   "id": "1b986c34",
   "metadata": {},
   "outputs": [
    {
     "data": {
      "text/plain": [
       "310565"
      ]
     },
     "execution_count": 15,
     "metadata": {},
     "output_type": "execute_result"
    }
   ],
   "source": [
    "acled_sub.shape[0]"
   ]
  },
  {
   "cell_type": "code",
   "execution_count": 16,
   "id": "4d570d60",
   "metadata": {},
   "outputs": [],
   "source": [
    "acled_sub2 = acled_sub[acled_sub.fatalities>0]"
   ]
  },
  {
   "cell_type": "code",
   "execution_count": 17,
   "id": "a67ef91d",
   "metadata": {},
   "outputs": [
    {
     "data": {
      "image/png": "[encoded data removed]",
      "text/plain": [
       "<Figure size 640x480 with 1 Axes>"
      ]
     },
     "metadata": {},
     "output_type": "display_data"
    }
   ],
   "source": [
    "sns.histplot(data = np.log(acled_sub2.fatalities+1));"
   ]
  },
  {
   "cell_type": "code",
   "execution_count": 25,
   "id": "dcb04165",
   "metadata": {},
   "outputs": [
    {
     "name": "stderr",
     "output_type": "stream",
     "text": [
      "C:\\Users\\zhuye\\AppData\\Local\\Temp\\ipykernel_26500\\746261793.py:1: SettingWithCopyWarning: \n",
      "A value is trying to be set on a copy of a slice from a DataFrame.\n",
      "Try using .loc[row_indexer,col_indexer] = value instead\n",
      "\n",
      "See the caveats in the documentation: https://pandas.pydata.org/pandas-docs/stable/user_guide/indexing.html#returning-a-view-versus-a-copy\n",
      "  acled_sub['tranformed_fatality'] = np.log(acled_sub.fatalities+1)\n"
     ]
    }
   ],
   "source": [
    "acled_sub['tranformed_fatality'] = np.log(acled_sub.fatalities+1)"
   ]
  },
  {
   "cell_type": "code",
   "execution_count": 18,
   "id": "2a2c1b55",
   "metadata": {},
   "outputs": [
    {
     "data": {
      "image/png": "[encoded data removed]",
      "text/plain": [
       "<Figure size 640x480 with 1 Axes>"
      ]
     },
     "metadata": {},
     "output_type": "display_data"
    }
   ],
   "source": [
    "ax = sns.boxplot(x='time_precision', y='fatalities', data=acled_sub, color='#99c2a2')\n",
    "plt.show();"
   ]
  },
  {
   "cell_type": "code",
   "execution_count": 63,
   "id": "649b248b",
   "metadata": {},
   "outputs": [],
   "source": [
    "import statsmodels.api as sm\n",
    "from statsmodels.formula.api import ols"
   ]
  },
  {
   "cell_type": "code",
   "execution_count": 68,
   "id": "e3e5ee5f",
   "metadata": {},
   "outputs": [
    {
     "data": {
      "text/html": [
       "<div>\n",
       "<style scoped>\n",
       "    .dataframe tbody tr th:only-of-type {\n",
       "        vertical-align: middle;\n",
       "    }\n",
       "\n",
       "    .dataframe tbody tr th {\n",
       "        vertical-align: top;\n",
       "    }\n",
       "\n",
       "    .dataframe thead th {\n",
       "        text-align: right;\n",
       "    }\n",
       "</style>\n",
       "<table border=\"1\" class=\"dataframe\">\n",
       "  <thead>\n",
       "    <tr style=\"text-align: right;\">\n",
       "      <th></th>\n",
       "      <th>sum_sq</th>\n",
       "      <th>df</th>\n",
       "      <th>F</th>\n",
       "      <th>PR(&gt;F)</th>\n",
       "    </tr>\n",
       "  </thead>\n",
       "  <tbody>\n",
       "    <tr>\n",
       "      <th>C(time_precision)</th>\n",
       "      <td>9.712203e+03</td>\n",
       "      <td>2.0</td>\n",
       "      <td>6.301745</td>\n",
       "      <td>0.001833</td>\n",
       "    </tr>\n",
       "    <tr>\n",
       "      <th>Residual</th>\n",
       "      <td>2.393179e+08</td>\n",
       "      <td>310562.0</td>\n",
       "      <td>NaN</td>\n",
       "      <td>NaN</td>\n",
       "    </tr>\n",
       "  </tbody>\n",
       "</table>\n",
       "</div>"
      ],
      "text/plain": [
       "                         sum_sq        df         F    PR(>F)\n",
       "C(time_precision)  9.712203e+03       2.0  6.301745  0.001833\n",
       "Residual           2.393179e+08  310562.0       NaN       NaN"
      ]
     },
     "execution_count": 68,
     "metadata": {},
     "output_type": "execute_result"
    }
   ],
   "source": [
    "model = ols('fatalities ~ C(time_precision)', data=acled_sub).fit()\n",
    "anova_table = sm.stats.anova_lm(model, typ=2)\n",
    "anova_table"
   ]
  },
  {
   "cell_type": "code",
   "execution_count": 69,
   "id": "277eec2d",
   "metadata": {},
   "outputs": [
    {
     "data": {
      "text/html": [
       "<table class=\"simpletable\">\n",
       "<caption>OLS Regression Results</caption>\n",
       "<tr>\n",
       "  <th>Dep. Variable:</th>       <td>fatalities</td>    <th>  R-squared:         </th>  <td>   0.000</td>  \n",
       "</tr>\n",
       "<tr>\n",
       "  <th>Model:</th>                   <td>OLS</td>       <th>  Adj. R-squared:    </th>  <td>   0.000</td>  \n",
       "</tr>\n",
       "<tr>\n",
       "  <th>Method:</th>             <td>Least Squares</td>  <th>  F-statistic:       </th>  <td>   6.302</td>  \n",
       "</tr>\n",
       "<tr>\n",
       "  <th>Date:</th>             <td>Tue, 21 Feb 2023</td> <th>  Prob (F-statistic):</th>   <td>0.00183</td>  \n",
       "</tr>\n",
       "<tr>\n",
       "  <th>Time:</th>                 <td>13:27:42</td>     <th>  Log-Likelihood:    </th> <td>-1.4729e+06</td>\n",
       "</tr>\n",
       "<tr>\n",
       "  <th>No. Observations:</th>      <td>310565</td>      <th>  AIC:               </th>  <td>2.946e+06</td> \n",
       "</tr>\n",
       "<tr>\n",
       "  <th>Df Residuals:</th>          <td>310562</td>      <th>  BIC:               </th>  <td>2.946e+06</td> \n",
       "</tr>\n",
       "<tr>\n",
       "  <th>Df Model:</th>              <td>     2</td>      <th>                     </th>      <td> </td>     \n",
       "</tr>\n",
       "<tr>\n",
       "  <th>Covariance Type:</th>      <td>nonrobust</td>    <th>                     </th>      <td> </td>     \n",
       "</tr>\n",
       "</table>\n",
       "<table class=\"simpletable\">\n",
       "<tr>\n",
       "             <td></td>               <th>coef</th>     <th>std err</th>      <th>t</th>      <th>P>|t|</th>  <th>[0.025</th>    <th>0.975]</th>  \n",
       "</tr>\n",
       "<tr>\n",
       "  <th>Intercept</th>              <td>    2.7166</td> <td>    0.053</td> <td>   51.534</td> <td> 0.000</td> <td>    2.613</td> <td>    2.820</td>\n",
       "</tr>\n",
       "<tr>\n",
       "  <th>C(time_precision)[T.2]</th> <td>    0.6465</td> <td>    0.182</td> <td>    3.543</td> <td> 0.000</td> <td>    0.289</td> <td>    1.004</td>\n",
       "</tr>\n",
       "<tr>\n",
       "  <th>C(time_precision)[T.3]</th> <td>    0.1248</td> <td>    0.315</td> <td>    0.396</td> <td> 0.692</td> <td>   -0.492</td> <td>    0.742</td>\n",
       "</tr>\n",
       "</table>\n",
       "<table class=\"simpletable\">\n",
       "<tr>\n",
       "  <th>Omnibus:</th>       <td>805839.022</td> <th>  Durbin-Watson:     </th>    <td>   1.695</td>    \n",
       "</tr>\n",
       "<tr>\n",
       "  <th>Prob(Omnibus):</th>   <td> 0.000</td>   <th>  Jarque-Bera (JB):  </th> <td>14101323312.074</td>\n",
       "</tr>\n",
       "<tr>\n",
       "  <th>Skew:</th>            <td>30.402</td>   <th>  Prob(JB):          </th>    <td>    0.00</td>    \n",
       "</tr>\n",
       "<tr>\n",
       "  <th>Kurtosis:</th>       <td>1045.129</td>  <th>  Cond. No.          </th>    <td>    6.35</td>    \n",
       "</tr>\n",
       "</table><br/><br/>Notes:<br/>[1] Standard Errors assume that the covariance matrix of the errors is correctly specified."
      ],
      "text/plain": [
       "<class 'statsmodels.iolib.summary.Summary'>\n",
       "\"\"\"\n",
       "                            OLS Regression Results                            \n",
       "==============================================================================\n",
       "Dep. Variable:             fatalities   R-squared:                       0.000\n",
       "Model:                            OLS   Adj. R-squared:                  0.000\n",
       "Method:                 Least Squares   F-statistic:                     6.302\n",
       "Date:                Tue, 21 Feb 2023   Prob (F-statistic):            0.00183\n",
       "Time:                        13:27:42   Log-Likelihood:            -1.4729e+06\n",
       "No. Observations:              310565   AIC:                         2.946e+06\n",
       "Df Residuals:                  310562   BIC:                         2.946e+06\n",
       "Df Model:                           2                                         \n",
       "Covariance Type:            nonrobust                                         \n",
       "==========================================================================================\n",
       "                             coef    std err          t      P>|t|      [0.025      0.975]\n",
       "------------------------------------------------------------------------------------------\n",
       "Intercept                  2.7166      0.053     51.534      0.000       2.613       2.820\n",
       "C(time_precision)[T.2]     0.6465      0.182      3.543      0.000       0.289       1.004\n",
       "C(time_precision)[T.3]     0.1248      0.315      0.396      0.692      -0.492       0.742\n",
       "==============================================================================\n",
       "Omnibus:                   805839.022   Durbin-Watson:                   1.695\n",
       "Prob(Omnibus):                  0.000   Jarque-Bera (JB):      14101323312.074\n",
       "Skew:                          30.402   Prob(JB):                         0.00\n",
       "Kurtosis:                    1045.129   Cond. No.                         6.35\n",
       "==============================================================================\n",
       "\n",
       "Notes:\n",
       "[1] Standard Errors assume that the covariance matrix of the errors is correctly specified.\n",
       "\"\"\""
      ]
     },
     "execution_count": 69,
     "metadata": {},
     "output_type": "execute_result"
    }
   ],
   "source": [
    "model.summary()"
   ]
  },
  {
   "cell_type": "code",
   "execution_count": 26,
   "id": "fcec299d",
   "metadata": {},
   "outputs": [
    {
     "data": {
      "text/html": [
       "<div>\n",
       "<style scoped>\n",
       "    .dataframe tbody tr th:only-of-type {\n",
       "        vertical-align: middle;\n",
       "    }\n",
       "\n",
       "    .dataframe tbody tr th {\n",
       "        vertical-align: top;\n",
       "    }\n",
       "\n",
       "    .dataframe thead th {\n",
       "        text-align: right;\n",
       "    }\n",
       "</style>\n",
       "<table border=\"1\" class=\"dataframe\">\n",
       "  <thead>\n",
       "    <tr style=\"text-align: right;\">\n",
       "      <th></th>\n",
       "      <th>data_id</th>\n",
       "      <th>iso</th>\n",
       "      <th>event_id_cnty</th>\n",
       "      <th>event_id_no_cnty</th>\n",
       "      <th>event_date</th>\n",
       "      <th>year</th>\n",
       "      <th>time_precision</th>\n",
       "      <th>fatalities</th>\n",
       "      <th>timestamp</th>\n",
       "      <th>iso3</th>\n",
       "      <th>month-year</th>\n",
       "      <th>#event</th>\n",
       "      <th>tranformed_fatality</th>\n",
       "    </tr>\n",
       "  </thead>\n",
       "  <tbody>\n",
       "    <tr>\n",
       "      <th>0</th>\n",
       "      <td>9835075</td>\n",
       "      <td>180</td>\n",
       "      <td>DRC28679</td>\n",
       "      <td>28679</td>\n",
       "      <td>2023-02-10</td>\n",
       "      <td>2023</td>\n",
       "      <td>1</td>\n",
       "      <td>0</td>\n",
       "      <td>1676309784</td>\n",
       "      <td>COD</td>\n",
       "      <td>2023-02-01</td>\n",
       "      <td>884</td>\n",
       "      <td>0.000000</td>\n",
       "    </tr>\n",
       "    <tr>\n",
       "      <th>1</th>\n",
       "      <td>9835076</td>\n",
       "      <td>180</td>\n",
       "      <td>DRC28680</td>\n",
       "      <td>28680</td>\n",
       "      <td>2023-02-10</td>\n",
       "      <td>2023</td>\n",
       "      <td>1</td>\n",
       "      <td>0</td>\n",
       "      <td>1676309784</td>\n",
       "      <td>COD</td>\n",
       "      <td>2023-02-01</td>\n",
       "      <td>884</td>\n",
       "      <td>0.000000</td>\n",
       "    </tr>\n",
       "    <tr>\n",
       "      <th>2</th>\n",
       "      <td>9835077</td>\n",
       "      <td>180</td>\n",
       "      <td>DRC28681</td>\n",
       "      <td>28681</td>\n",
       "      <td>2023-02-10</td>\n",
       "      <td>2023</td>\n",
       "      <td>2</td>\n",
       "      <td>0</td>\n",
       "      <td>1676309784</td>\n",
       "      <td>COD</td>\n",
       "      <td>2023-02-01</td>\n",
       "      <td>884</td>\n",
       "      <td>0.000000</td>\n",
       "    </tr>\n",
       "    <tr>\n",
       "      <th>3</th>\n",
       "      <td>9835079</td>\n",
       "      <td>180</td>\n",
       "      <td>DRC28683</td>\n",
       "      <td>28683</td>\n",
       "      <td>2023-02-10</td>\n",
       "      <td>2023</td>\n",
       "      <td>1</td>\n",
       "      <td>0</td>\n",
       "      <td>1676309784</td>\n",
       "      <td>COD</td>\n",
       "      <td>2023-02-01</td>\n",
       "      <td>884</td>\n",
       "      <td>0.000000</td>\n",
       "    </tr>\n",
       "    <tr>\n",
       "      <th>4</th>\n",
       "      <td>9835080</td>\n",
       "      <td>180</td>\n",
       "      <td>DRC28684</td>\n",
       "      <td>28684</td>\n",
       "      <td>2023-02-10</td>\n",
       "      <td>2023</td>\n",
       "      <td>1</td>\n",
       "      <td>0</td>\n",
       "      <td>1676309784</td>\n",
       "      <td>COD</td>\n",
       "      <td>2023-02-01</td>\n",
       "      <td>884</td>\n",
       "      <td>0.000000</td>\n",
       "    </tr>\n",
       "    <tr>\n",
       "      <th>...</th>\n",
       "      <td>...</td>\n",
       "      <td>...</td>\n",
       "      <td>...</td>\n",
       "      <td>...</td>\n",
       "      <td>...</td>\n",
       "      <td>...</td>\n",
       "      <td>...</td>\n",
       "      <td>...</td>\n",
       "      <td>...</td>\n",
       "      <td>...</td>\n",
       "      <td>...</td>\n",
       "      <td>...</td>\n",
       "      <td>...</td>\n",
       "    </tr>\n",
       "    <tr>\n",
       "      <th>310560</th>\n",
       "      <td>9695770</td>\n",
       "      <td>694</td>\n",
       "      <td>SIE2</td>\n",
       "      <td>2</td>\n",
       "      <td>1997-01-01</td>\n",
       "      <td>1997</td>\n",
       "      <td>3</td>\n",
       "      <td>0</td>\n",
       "      <td>1670286851</td>\n",
       "      <td>SLE</td>\n",
       "      <td>1997-01-01</td>\n",
       "      <td>241</td>\n",
       "      <td>0.000000</td>\n",
       "    </tr>\n",
       "    <tr>\n",
       "      <th>310561</th>\n",
       "      <td>9695771</td>\n",
       "      <td>694</td>\n",
       "      <td>SIE3</td>\n",
       "      <td>3</td>\n",
       "      <td>1997-01-01</td>\n",
       "      <td>1997</td>\n",
       "      <td>3</td>\n",
       "      <td>0</td>\n",
       "      <td>1670286851</td>\n",
       "      <td>SLE</td>\n",
       "      <td>1997-01-01</td>\n",
       "      <td>241</td>\n",
       "      <td>0.000000</td>\n",
       "    </tr>\n",
       "    <tr>\n",
       "      <th>310562</th>\n",
       "      <td>9695772</td>\n",
       "      <td>694</td>\n",
       "      <td>SIE6</td>\n",
       "      <td>6</td>\n",
       "      <td>1997-01-01</td>\n",
       "      <td>1997</td>\n",
       "      <td>3</td>\n",
       "      <td>0</td>\n",
       "      <td>1670286851</td>\n",
       "      <td>SLE</td>\n",
       "      <td>1997-01-01</td>\n",
       "      <td>241</td>\n",
       "      <td>0.000000</td>\n",
       "    </tr>\n",
       "    <tr>\n",
       "      <th>310563</th>\n",
       "      <td>9695773</td>\n",
       "      <td>694</td>\n",
       "      <td>SIE7</td>\n",
       "      <td>7</td>\n",
       "      <td>1997-01-01</td>\n",
       "      <td>1997</td>\n",
       "      <td>3</td>\n",
       "      <td>0</td>\n",
       "      <td>1670286851</td>\n",
       "      <td>SLE</td>\n",
       "      <td>1997-01-01</td>\n",
       "      <td>241</td>\n",
       "      <td>0.000000</td>\n",
       "    </tr>\n",
       "    <tr>\n",
       "      <th>310564</th>\n",
       "      <td>9743454</td>\n",
       "      <td>24</td>\n",
       "      <td>ANG2</td>\n",
       "      <td>2</td>\n",
       "      <td>1997-01-01</td>\n",
       "      <td>1997</td>\n",
       "      <td>3</td>\n",
       "      <td>10</td>\n",
       "      <td>1673316822</td>\n",
       "      <td>AGO</td>\n",
       "      <td>1997-01-01</td>\n",
       "      <td>241</td>\n",
       "      <td>2.397895</td>\n",
       "    </tr>\n",
       "  </tbody>\n",
       "</table>\n",
       "<p>310565 rows × 13 columns</p>\n",
       "</div>"
      ],
      "text/plain": [
       "        data_id  iso event_id_cnty  event_id_no_cnty event_date  year  \\\n",
       "0       9835075  180      DRC28679             28679 2023-02-10  2023   \n",
       "1       9835076  180      DRC28680             28680 2023-02-10  2023   \n",
       "2       9835077  180      DRC28681             28681 2023-02-10  2023   \n",
       "3       9835079  180      DRC28683             28683 2023-02-10  2023   \n",
       "4       9835080  180      DRC28684             28684 2023-02-10  2023   \n",
       "...         ...  ...           ...               ...        ...   ...   \n",
       "310560  9695770  694          SIE2                 2 1997-01-01  1997   \n",
       "310561  9695771  694          SIE3                 3 1997-01-01  1997   \n",
       "310562  9695772  694          SIE6                 6 1997-01-01  1997   \n",
       "310563  9695773  694          SIE7                 7 1997-01-01  1997   \n",
       "310564  9743454   24          ANG2                 2 1997-01-01  1997   \n",
       "\n",
       "        time_precision  fatalities   timestamp iso3 month-year  #event  \\\n",
       "0                    1           0  1676309784  COD 2023-02-01     884   \n",
       "1                    1           0  1676309784  COD 2023-02-01     884   \n",
       "2                    2           0  1676309784  COD 2023-02-01     884   \n",
       "3                    1           0  1676309784  COD 2023-02-01     884   \n",
       "4                    1           0  1676309784  COD 2023-02-01     884   \n",
       "...                ...         ...         ...  ...        ...     ...   \n",
       "310560               3           0  1670286851  SLE 1997-01-01     241   \n",
       "310561               3           0  1670286851  SLE 1997-01-01     241   \n",
       "310562               3           0  1670286851  SLE 1997-01-01     241   \n",
       "310563               3           0  1670286851  SLE 1997-01-01     241   \n",
       "310564               3          10  1673316822  AGO 1997-01-01     241   \n",
       "\n",
       "        tranformed_fatality  \n",
       "0                  0.000000  \n",
       "1                  0.000000  \n",
       "2                  0.000000  \n",
       "3                  0.000000  \n",
       "4                  0.000000  \n",
       "...                     ...  \n",
       "310560             0.000000  \n",
       "310561             0.000000  \n",
       "310562             0.000000  \n",
       "310563             0.000000  \n",
       "310564             2.397895  \n",
       "\n",
       "[310565 rows x 13 columns]"
      ]
     },
     "execution_count": 26,
     "metadata": {},
     "output_type": "execute_result"
    }
   ],
   "source": [
    "acled_sub"
   ]
  },
  {
   "cell_type": "code",
   "execution_count": 42,
   "id": "1b781b6b",
   "metadata": {},
   "outputs": [
    {
     "name": "stderr",
     "output_type": "stream",
     "text": [
      "C:\\Users\\zhuye\\AppData\\Local\\Temp\\ipykernel_26500\\3313829096.py:4: SettingWithCopyWarning: \n",
      "A value is trying to be set on a copy of a slice from a DataFrame.\n",
      "Try using .loc[row_indexer,col_indexer] = value instead\n",
      "\n",
      "See the caveats in the documentation: https://pandas.pydata.org/pandas-docs/stable/user_guide/indexing.html#returning-a-view-versus-a-copy\n",
      "  data_time['days_from_19970101'] = (data_time['event_date'] - pd.to_datetime('1997-01-01')).dt.days\n"
     ]
    }
   ],
   "source": [
    "selectecd_features = ['data_id','event_date', '#event', 'tranformed_fatality']\n",
    "\n",
    "data_time = acled_sub[selectecd_features]\n",
    "data_time['days_from_19970101'] = (data_time['event_date'] - pd.to_datetime('1997-01-01')).dt.days"
   ]
  },
  {
   "cell_type": "code",
   "execution_count": 44,
   "id": "bd9b0297",
   "metadata": {},
   "outputs": [
    {
     "data": {
      "text/plain": [
       "0         9536\n",
       "1         9536\n",
       "2         9536\n",
       "3         9536\n",
       "4         9536\n",
       "          ... \n",
       "310560       0\n",
       "310561       0\n",
       "310562       0\n",
       "310563       0\n",
       "310564       0\n",
       "Name: days_from_19970101, Length: 310565, dtype: int64"
      ]
     },
     "execution_count": 44,
     "metadata": {},
     "output_type": "execute_result"
    }
   ],
   "source": [
    "data_time['days_from_19970101']"
   ]
  },
  {
   "cell_type": "code",
   "execution_count": 46,
   "id": "ca871eb7",
   "metadata": {},
   "outputs": [
    {
     "data": {
      "text/plain": [
       "0         884\n",
       "1         884\n",
       "2         884\n",
       "3         884\n",
       "4         884\n",
       "         ... \n",
       "310560    241\n",
       "310561    241\n",
       "310562    241\n",
       "310563    241\n",
       "310564    241\n",
       "Name: #event, Length: 310565, dtype: int64"
      ]
     },
     "execution_count": 46,
     "metadata": {},
     "output_type": "execute_result"
    }
   ],
   "source": [
    "data_time.columns"
   ]
  },
  {
   "cell_type": "code",
   "execution_count": 36,
   "id": "44dd4602",
   "metadata": {},
   "outputs": [],
   "source": [
    "data_time.to_csv('time.csv')"
   ]
  },
  {
   "cell_type": "code",
   "execution_count": 49,
   "id": "a7a59855",
   "metadata": {},
   "outputs": [],
   "source": [
    "data_time =data_time.rename(columns={'#event':'#event_within_month'})"
   ]
  },
  {
   "cell_type": "code",
   "execution_count": 50,
   "id": "b0c529e9",
   "metadata": {},
   "outputs": [],
   "source": [
    "time_data = data_time[['data_id','#event_within_month','tranformed_fatality', 'days_from_19970101']]"
   ]
  },
  {
   "cell_type": "code",
   "execution_count": 53,
   "id": "df5bd07b",
   "metadata": {},
   "outputs": [],
   "source": [
    "time_data.to_csv('time&faltatliy.csv')"
   ]
  }
 ],
 "metadata": {
  "kernelspec": {
   "display_name": "Python 3 (ipykernel)",
   "language": "python",
   "name": "python3"
  },
  "language_info": {
   "codemirror_mode": {
    "name": "ipython",
    "version": 3
   },
   "file_extension": ".py",
   "mimetype": "text/x-python",
   "name": "python",
   "nbconvert_exporter": "python",
   "pygments_lexer": "ipython3",
   "version": "3.10.9"
  }
 },
 "nbformat": 4,
 "nbformat_minor": 5
}
